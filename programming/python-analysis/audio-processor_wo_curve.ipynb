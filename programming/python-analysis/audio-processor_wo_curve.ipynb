{
 "cells": [
  {
   "attachments": {},
   "cell_type": "markdown",
   "metadata": {},
   "source": [
    "# Evaluation of the processed amplitude *using raw data*\n",
    "\n",
    "This processor uses the averaged data of the amplitude analyser rather than the approximated hyoerbolic function."
   ]
  },
  {
   "attachments": {},
   "cell_type": "markdown",
   "metadata": {},
   "source": [
    "# Setup"
   ]
  },
  {
   "cell_type": "code",
   "execution_count": 26,
   "metadata": {},
   "outputs": [],
   "source": [
    "import math\n",
    "import numpy as np\n",
    "import pandas as pd\n",
    "import matplotlib.pyplot as plt\n",
    "\n",
    "import pickle\n",
    "from colorama import Fore, Back, Style\n",
    "import plotting_util\n",
    "from reportlab.lib import pagesizes\n",
    "from reportlab.lib.units import mm\n",
    "from reportlab.lib import pagesizes\n",
    "A6_LS = pagesizes.landscape(pagesizes.A6)\n",
    "PAGE_SMALL = (160 * mm, 80 * mm)\n",
    "\n",
    "import configuration as cfg\n"
   ]
  },
  {
   "cell_type": "code",
   "execution_count": 27,
   "metadata": {},
   "outputs": [],
   "source": [
    "# Import serialized symmetrical list to file\n",
    "def import_list_binary(filename: str):\n",
    "    with open(filename + '.dat', 'rb') as fd:\n",
    "        list = pickle.load(fd)\n",
    "    return list\n",
    "\n",
    "\n",
    "symm_array = import_list_binary(\"hyperbolic_raw_data\")\n"
   ]
  },
  {
   "attachments": {},
   "cell_type": "markdown",
   "metadata": {},
   "source": [
    "# Umrechnung von Amplitude auf Schallpegel (RMS) \\[dB\\]\n",
    "\n",
    "Pseudocode Umrechnungsfunktionen:\n",
    "```python\n",
    "# a: Amplitude\n",
    "amp_to_db(a: float) = 20 * log10(a)\n",
    "amp_to_rms(a: float) = amp_to_db(sqrt((a * a) / 2))\n",
    "```"
   ]
  },
  {
   "cell_type": "code",
   "execution_count": 28,
   "metadata": {},
   "outputs": [
    {
     "name": "stdout",
     "output_type": "stream",
     "text": [
      "test\n",
      "[        -inf -15.05149978  -9.03089987  -5.50907469  -3.01029996]\n",
      "[ -3.01029996  -5.50907469  -9.03089987 -15.05149978         -inf]\n"
     ]
    },
    {
     "name": "stderr",
     "output_type": "stream",
     "text": [
      "C:\\Users\\Levin\\AppData\\Local\\Temp\\ipykernel_3744\\3952447410.py:5: RuntimeWarning: divide by zero encountered in log10\n",
      "  return 20 * np.log10(amplitude)\n"
     ]
    }
   ],
   "source": [
    "def __amp_to_db(amplitude):\n",
    "    \"\"\"\n",
    "    IMPORTANT: Returns a numpy array\n",
    "    \"\"\"\n",
    "    return 20 * np.log10(amplitude)\n",
    "\n",
    "def amp_to_rms(amplitude):\n",
    "    amplitude = np.array(amplitude)\n",
    "    return __amp_to_db(np.sqrt((np.multiply(amplitude, amplitude)) / 2))\n",
    "\n",
    "\n",
    "if __name__ == \"__main__\":\n",
    "    print(\"test\")\n",
    "    print(amp_to_rms([0, 0.25, 0.5, 0.75, 1]))\n",
    "    print(amp_to_rms([1, 0.75, 0.5, 0.25, 0]))"
   ]
  },
  {
   "cell_type": "code",
   "execution_count": 29,
   "metadata": {},
   "outputs": [
    {
     "data": {
      "text/plain": [
       "<Figure size 640x480 with 0 Axes>"
      ]
     },
     "metadata": {},
     "output_type": "display_data"
    },
    {
     "data": {
      "image/png": "[encoded data removed]",
      "text/plain": [
       "<Figure size 640x480 with 1 Axes>"
      ]
     },
     "metadata": {},
     "output_type": "display_data"
    },
    {
     "name": "stdout",
     "output_type": "stream",
     "text": [
      "time increment: 0,5833333333333334 s\n",
      "-23,923543056666215\t-30,533232674847234\t-33,421645359541344\t\n",
      "\n"
     ]
    }
   ],
   "source": [
    "plotting_util.plot_amplitude_data(\n",
    "    \"Amplitude to RMS conversion\", \"Hyperbola (optimal_a)\", cfg.averaging_resolution, data1=symm_array, axis2_name=\"RMS [dB]\", data2=amp_to_rms(symm_array), graph_on_same_axis=True)\n",
    "\n",
    "rms_curve = amp_to_rms(symm_array)\n",
    "\n",
    "amt_print_vals = 3 # minimum of 3\n",
    "num_samples = len(rms_curve)\n",
    "sample_increment = int(num_samples / amt_print_vals)\n",
    "time_increment = sample_increment / cfg.averaging_resolution\n",
    "rms_vals = [(rms_curve[sample_increment * (i + 1) - 1]) for i in range(amt_print_vals)]\n",
    "print(f\"time increment: {str(time_increment).replace('.', ',')} s\")\n",
    "for rms_value in rms_vals:\n",
    "    print(str(rms_value).replace('.', ','), end='\\t')\n",
    "\n",
    "print('\\n')"
   ]
  },
  {
   "attachments": {},
   "cell_type": "markdown",
   "metadata": {},
   "source": [
    "# Speed calculation\n",
    "\n",
    "Using the data yielded by the amplitude to RMS converter, the speed of the passing vehicle is approximated.\n",
    "\n",
    "Since the RMS curve is derived from a hyperbola, no extra precision is gained by calculating the speed at multiple points in time. However, due to the fact that the hyperbola is only an approximation of the actual amplitude curve, especially near $x = 0$, a value further from $0$ is picked (the hyperbola approaches a value of $\\infty$ near $0$, which cannot be used in this formula).\n",
    "\n",
    "See excel sheet \"AmplitudeTest.xlsx\" for empirical proof that speeds calculated with $x = 0$ including, differ from all other values."
   ]
  },
  {
   "cell_type": "code",
   "execution_count": 35,
   "metadata": {},
   "outputs": [
    {
     "name": "stdout",
     "output_type": "stream",
     "text": [
      "\u001b[30m\u001b[46mApproximated speed: 76.77820263414124 [m/s] = 276.4015294829085 [km/h]\u001b[0m\n"
     ]
    }
   ],
   "source": [
    "r1 = 2.5 # radius_of_recording\n",
    "L1 = 0 # maximum loudness\n",
    "\n",
    "L2 = rms_vals[0]\n",
    "L3 = rms_vals[1]\n",
    "\n",
    "def radius2_from_3_known(radius1, Loudness1, Loudness2): # -> r2\n",
    "    return radius1 * (10 ** (abs(Loudness1 - Loudness2) / 20))\n",
    "\n",
    "r2 = radius2_from_3_known(r1, L1, L2)\n",
    "r3 = radius2_from_3_known(r1, L1, L3)\n",
    "\n",
    "v2_3 = (r3 - r2) / time_increment\n",
    "\n",
    "print(Fore.BLACK + Back.CYAN + f\"Approximated speed: {v2_3} [m/s] = {v2_3 * 3.6} [km/h]\" + Style.RESET_ALL)"
   ]
  },
  {
   "attachments": {},
   "cell_type": "markdown",
   "metadata": {},
   "source": [
    "Multiple speed calculations with averaging"
   ]
  },
  {
   "cell_type": "code",
   "execution_count": 36,
   "metadata": {},
   "outputs": [
    {
     "name": "stdout",
     "output_type": "stream",
     "text": [
      "1.606060862552366\n",
      "1.6514812356857762\n",
      "1.786101050841917\n",
      "2.0044964171905435\n",
      "2.2974675885758944\n",
      "2.6541751405766685\n",
      "3.064590626795731\n",
      "3.520584384982939\n",
      "4.017348237211833\n",
      "4.553031031937898\n",
      "5.121572981604893\n",
      "5.7038526210561455\n",
      "6.270520673197924\n",
      "6.796864365955375\n",
      "7.275190851362161\n",
      "7.714290138241218\n",
      "8.130028748784587\n",
      "8.533647132576819\n",
      "8.921538985374506\n",
      "9.272561977649836\n",
      "9.560462446156746\n",
      "9.776564483583448\n",
      "\u001b[30m\u001b[46mApproximated speed: 76.77820263414124 [m/s] = 276.4015294829085 [km/h]\u001b[0m\n"
     ]
    }
   ],
   "source": [
    "r1 = 2.5  # radius_of_recording\n",
    "L1 = 0  # maximum loudness\n",
    "\n",
    "L2 = rms_vals[0]\n",
    "L3 = rms_vals[1]\n",
    "\n",
    "\n",
    "def radius2_from_3_known(radius1, Loudness1, Loudness2):  # -> r2\n",
    "    return radius1 * (10 ** (abs(Loudness1 - Loudness2) / 20))\n",
    "\n",
    "# velocity calculation for every points in the RMS list\n",
    "r_prev = r1\n",
    "v_list = np.empty(len(rms_curve))\n",
    "for L_x in rms_curve:\n",
    "    r_x = radius2_from_3_known(r1, L1, L_x)\n",
    "    v_prev_x = (r_x - r_prev) / cfg.averaging_resolution\n",
    "    print(v_prev_x)\n",
    "    v_list = np.append(v_list, v_prev_x)\n",
    "\n",
    "# r2 = radius2_from_3_known(r1, L1, L2)\n",
    "# r3 = radius2_from_3_known(r1, L1, L3)\n",
    "\n",
    "# v2_3 = (r3 - r2) / time_increment\n",
    "\n",
    "v_avg = np.mean(v_list)\n",
    "v_median = np.median(v_list)\n",
    "v_min = np.min(v_list)\n",
    "v_max = np.max(v_list)\n",
    "\n",
    "print(Fore.BLACK + Back.CYAN +\n",
    "      f\"Approximated speed: {v2_3} [m/s] = {v2_3 * 3.6} [km/h]\" + Style.RESET_ALL)\n"
   ]
  }
 ],
 "metadata": {
  "kernelspec": {
   "display_name": "base",
   "language": "python",
   "name": "python3"
  },
  "language_info": {
   "codemirror_mode": {
    "name": "ipython",
    "version": 3
   },
   "file_extension": ".py",
   "mimetype": "text/x-python",
   "name": "python",
   "nbconvert_exporter": "python",
   "pygments_lexer": "ipython3",
   "version": "3.9.13"
  },
  "orig_nbformat": 4,
  "vscode": {
   "interpreter": {
    "hash": "ad2bdc8ecc057115af97d19610ffacc2b4e99fae6737bb82f5d7fb13d2f2c186"
   }
  }
 },
 "nbformat": 4,
 "nbformat_minor": 2
}
