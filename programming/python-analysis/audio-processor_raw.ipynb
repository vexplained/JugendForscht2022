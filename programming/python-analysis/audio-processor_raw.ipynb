{
 "cells": [
  {
   "attachments": {},
   "cell_type": "markdown",
   "metadata": {},
   "source": [
    "# Evaluation of the processed amplitude *using raw data*\n",
    "\n",
    "This processor uses the averaged data of the amplitude analyser rather than the approximated hyoerbolic function."
   ]
  },
  {
   "attachments": {},
   "cell_type": "markdown",
   "metadata": {},
   "source": [
    "# Setup"
   ]
  },
  {
   "cell_type": "code",
   "execution_count": 55,
   "metadata": {},
   "outputs": [],
   "source": [
    "import math\n",
    "import numpy as np\n",
    "import pandas as pd\n",
    "import matplotlib.pyplot as plt\n",
    "\n",
    "import pickle\n",
    "from colorama import Fore, Back, Style\n",
    "import plotting_util\n",
    "from reportlab.lib import pagesizes\n",
    "from reportlab.lib.units import mm\n",
    "from reportlab.lib import pagesizes\n",
    "A6_LS = pagesizes.landscape(pagesizes.A6)\n",
    "PAGE_SMALL = (160 * mm, 80 * mm)\n",
    "\n",
    "import configuration as cfg\n"
   ]
  },
  {
   "cell_type": "code",
   "execution_count": 56,
   "metadata": {},
   "outputs": [],
   "source": [
    "# Import serialized symmetrical list to file\n",
    "def import_list_binary(filename: str):\n",
    "    with open(filename + '.dat', 'rb') as fd:\n",
    "        list = pickle.load(fd)\n",
    "    return list\n",
    "\n",
    "\n",
    "symm_array = import_list_binary(\"data/hyperbolic_raw_data_symm\")\n"
   ]
  },
  {
   "attachments": {},
   "cell_type": "markdown",
   "metadata": {},
   "source": [
    "# Umrechnung von Amplitude auf Schallpegel (RMS) \\[dB\\]\n",
    "\n",
    "Pseudocode Umrechnungsfunktionen:\n",
    "```python\n",
    "# a: Amplitude\n",
    "amp_to_db(a: float) = 20 * log10(a)\n",
    "amp_to_rms(a: float) = amp_to_db(sqrt((a * a) / 2))\n",
    "```"
   ]
  },
  {
   "cell_type": "code",
   "execution_count": 57,
   "metadata": {},
   "outputs": [
    {
     "name": "stdout",
     "output_type": "stream",
     "text": [
      "test\n",
      "[        -inf -15.05149978  -9.03089987  -5.50907469  -3.01029996]\n",
      "[ -3.01029996  -5.50907469  -9.03089987 -15.05149978         -inf]\n"
     ]
    },
    {
     "name": "stderr",
     "output_type": "stream",
     "text": [
      "C:\\Users\\Levin\\AppData\\Local\\Temp\\ipykernel_16040\\3952447410.py:5: RuntimeWarning: divide by zero encountered in log10\n",
      "  return 20 * np.log10(amplitude)\n"
     ]
    }
   ],
   "source": [
    "def __amp_to_db(amplitude):\n",
    "    \"\"\"\n",
    "    IMPORTANT: Returns a numpy array\n",
    "    \"\"\"\n",
    "    return 20 * np.log10(amplitude)\n",
    "\n",
    "def amp_to_rms(amplitude):\n",
    "    amplitude = np.array(amplitude)\n",
    "    return __amp_to_db(np.sqrt((np.multiply(amplitude, amplitude)) / 2))\n",
    "\n",
    "\n",
    "if __name__ == \"__main__\":\n",
    "    print(\"test\")\n",
    "    print(amp_to_rms([0, 0.25, 0.5, 0.75, 1]))\n",
    "    print(amp_to_rms([1, 0.75, 0.5, 0.25, 0]))"
   ]
  },
  {
   "cell_type": "code",
   "execution_count": 58,
   "metadata": {},
   "outputs": [
    {
     "data": {
      "text/plain": [
       "<Figure size 640x480 with 0 Axes>"
      ]
     },
     "metadata": {},
     "output_type": "display_data"
    },
    {
     "data": {
      "image/png": "[encoded data removed]",
      "text/plain": [
       "<Figure size 640x480 with 1 Axes>"
      ]
     },
     "metadata": {},
     "output_type": "display_data"
    },
    {
     "name": "stdout",
     "output_type": "stream",
     "text": [
      "time increment: 1,0 s\n",
      "-24,66580197398239\t-31,427926327037206\t-35,23931103000772\t\n",
      "\n"
     ]
    }
   ],
   "source": [
    "plotting_util.plot_amplitude_data(\n",
    "    \"Amplitude to RMS conversion\", \"Hyperbola (optimal_a)\", cfg.averaging_resolution, data1=symm_array, axis2_name=\"RMS [dB]\", data2=amp_to_rms(symm_array), graph_on_same_axis=True)\n",
    "\n",
    "rms_curve = amp_to_rms(symm_array)\n",
    "\n",
    "amt_print_vals = 3 # minimum of 3\n",
    "num_samples = len(rms_curve)\n",
    "sample_increment = int(num_samples / amt_print_vals)\n",
    "time_increment = sample_increment / cfg.averaging_resolution\n",
    "rms_vals = [(rms_curve[sample_increment * (i + 1) - 1]) for i in range(amt_print_vals)]\n",
    "print(f\"time increment: {str(time_increment).replace('.', ',')} s\")\n",
    "for rms_value in rms_vals:\n",
    "    print(str(rms_value).replace('.', ','), end='\\t')\n",
    "\n",
    "print('\\n')"
   ]
  },
  {
   "cell_type": "markdown",
   "metadata": {},
   "source": [
    "# Pythagoras correction\n",
    "\n",
    "<span style=\"color:red; font-size:30pt;\">fehlt momentan noch</span>"
   ]
  },
  {
   "attachments": {},
   "cell_type": "markdown",
   "metadata": {},
   "source": [
    "# Speed calculation\n",
    "\n",
    "Using the data yielded by the amplitude to RMS converter, the speed of the passing vehicle is approximated.\n",
    "\n",
    "Since the RMS curve is derived from a hyperbola, no extra precision is gained by calculating the speed at multiple points in time. However, due to the fact that the hyperbola is only an approximation of the actual amplitude curve, especially near $x = 0$, a value further from $0$ is picked (the hyperbola approaches a value of $\\infty$ near $0$, which cannot be used in this formula).\n",
    "\n",
    "See excel sheet \"AmplitudeTest.xlsx\" for empirical proof that speeds calculated with $x = 0$ including, differ from all other values."
   ]
  },
  {
   "cell_type": "code",
   "execution_count": 59,
   "metadata": {},
   "outputs": [
    {
     "name": "stdout",
     "output_type": "stream",
     "text": [
      "\u001b[30m\u001b[46mApproximated speed: 50.40397336297806 [m/s] = 181.454304106721 [km/h]\u001b[0m\n"
     ]
    }
   ],
   "source": [
    "r1 = 2.5 # radius_of_recording\n",
    "L1 = 0 # maximum loudness\n",
    "\n",
    "L2 = rms_vals[0]\n",
    "L3 = rms_vals[1]\n",
    "\n",
    "def radius2_from_3_known(radius1, Loudness1, Loudness2): # -> r2\n",
    "    return radius1 * (10 ** (abs(Loudness1 - Loudness2) / 20))\n",
    "\n",
    "r2 = radius2_from_3_known(r1, L1, L2)\n",
    "r3 = radius2_from_3_known(r1, L1, L3)\n",
    "\n",
    "v2_3 = (r3 - r2) / time_increment\n",
    "\n",
    "print(Fore.BLACK + Back.CYAN + f\"Approximated speed: {v2_3} [m/s] = {v2_3 * 3.6} [km/h]\" + Style.RESET_ALL)"
   ]
  },
  {
   "attachments": {},
   "cell_type": "markdown",
   "metadata": {},
   "source": [
    "Multiple speed calculations with averaging"
   ]
  },
  {
   "cell_type": "code",
   "execution_count": 60,
   "metadata": {},
   "outputs": [
    {
     "name": "stdout",
     "output_type": "stream",
     "text": [
      "0.0\n",
      "0.4063817140386128\n",
      "1.208342922077966\n",
      "1.9683711700429694\n",
      "2.6390772684100767\n",
      "3.186584453361556\n",
      "3.64134759948932\n",
      "4.095382439508793\n",
      "4.622752924438764\n",
      "5.216737859607218\n",
      "5.810351257291863\n",
      "6.316588086171304\n",
      "6.627205897678117\n",
      "6.627520502251304\n",
      "6.31763553362331\n",
      "5.933630481102295\n",
      "5.805201456058679\n",
      "6.018460641123134\n",
      "6.35268595768234\n",
      "6.6123137139303765\n",
      "6.878503476592478\n",
      "7.351484968825801\n",
      "8.061758057344143\n",
      "8.844194629251298\n",
      "9.542922865283629\n",
      "10.101080889156869\n",
      "10.385269670546947\n",
      "10.084556101729554\n",
      "9.053784278520219\n",
      "7.636909145674579\n",
      "6.349552534528115\n",
      "5.349221276783055\n",
      "4.486484649545332\n",
      "3.7242845089912464\n",
      "3.2106535460795698\n",
      "3.0013231911210028\n",
      "2.9341494489207633\n",
      "\u001b[30m\u001b[46mMininmum: 0.0 [m/s] = 0.0 [km/h]\n",
      "      Average: 2.8254189357029524 [m/s] = 10.171508168530629 [km/h]\n",
      "      Median: 0.18912314094369198 [m/s] = 0.6808433073972912 [km/h]\n",
      "      Maximum: 10.385269670546947 [m/s] = 37.38697081396901 [km/h]\u001b[0m\n"
     ]
    }
   ],
   "source": [
    "r1 = 2.5  # radius_of_recording\n",
    "L1 = rms_curve[0]  # maximum loudness\n",
    "\n",
    "def radius2_from_3_known(radius1, Loudness1, Loudness2):  # -> r2\n",
    "    return radius1 * (10 ** (abs(Loudness1 - Loudness2) / 20))\n",
    "\n",
    "# velocity calculation for every points in the RMS list\n",
    "r_prev = r1\n",
    "v_list = np.empty(len(rms_curve))\n",
    "for L_x in rms_curve:\n",
    "    r_x = radius2_from_3_known(r1, L1, L_x)\n",
    "    # v = s/t  ;  t = 1/res\n",
    "    v_prev_x = (r_x - r_prev) * cfg.averaging_resolution\n",
    "    print(v_prev_x)\n",
    "    v_list = np.append(v_list, v_prev_x)\n",
    "    r_prev = r_x\n",
    "\n",
    "v_avg = np.mean(v_list)\n",
    "v_median = np.median(v_list)\n",
    "v_min = np.min(v_list)\n",
    "v_max = np.max(v_list)\n",
    "\n",
    "print(Fore.BLACK + Back.CYAN +\n",
    "      f\"\"\"Mininmum: {v_min} [m/s] = {v_min * 3.6} [km/h]\n",
    "      Average: {v_avg} [m/s] = {v_avg * 3.6} [km/h]\n",
    "      Median: {v_median} [m/s] = {v_median * 3.6} [km/h]\n",
    "      Maximum: {v_max} [m/s] = {v_max * 3.6} [km/h]\"\"\" + Style.RESET_ALL)\n"
   ]
  }
 ],
 "metadata": {
  "kernelspec": {
   "display_name": "base",
   "language": "python",
   "name": "python3"
  },
  "language_info": {
   "codemirror_mode": {
    "name": "ipython",
    "version": 3
   },
   "file_extension": ".py",
   "mimetype": "text/x-python",
   "name": "python",
   "nbconvert_exporter": "python",
   "pygments_lexer": "ipython3",
   "version": "3.9.13"
  },
  "orig_nbformat": 4,
  "vscode": {
   "interpreter": {
    "hash": "ad2bdc8ecc057115af97d19610ffacc2b4e99fae6737bb82f5d7fb13d2f2c186"
   }
  }
 },
 "nbformat": 4,
 "nbformat_minor": 2
}
