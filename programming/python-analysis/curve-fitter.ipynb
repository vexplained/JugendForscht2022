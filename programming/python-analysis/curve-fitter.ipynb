{
 "cells": [
  {
   "cell_type": "markdown",
   "metadata": {},
   "source": [
    "# Fitting a hyperbola to the amplitude points\n",
    "\n",
    "Fits a hyperbolic curve ```1 / x``` to the points exported by the [Audio Analyser Notebook](./audio-analyser.ipynb) to calculate the **Intensity** of the sound wave (```Power per Area``` (?)) and then the distance or the velocity of the passing vehicle."
   ]
  },
  {
   "attachments": {},
   "cell_type": "markdown",
   "metadata": {},
   "source": [
    "# Setup; basics"
   ]
  },
  {
   "cell_type": "code",
   "execution_count": 170,
   "metadata": {},
   "outputs": [],
   "source": [
    "import pickle\n",
    "import math\n",
    "import numpy as np\n",
    "import pandas as pd\n",
    "import matplotlib.pyplot as plt\n",
    "from decimal import Decimal\n",
    "\n",
    "import plotting_util\n",
    "from reportlab.lib import pagesizes\n",
    "from reportlab.lib.units import mm\n",
    "from reportlab.lib import pagesizes\n",
    "A6_LS = pagesizes.landscape(pagesizes.A6)\n",
    "PAGE_SMALL = (160*mm, 80*mm)\n",
    "\n",
    "\n",
    "import configuration as cfg"
   ]
  },
  {
   "cell_type": "code",
   "execution_count": 171,
   "metadata": {},
   "outputs": [],
   "source": [
    "# Import serialized symmetrical list to file\n",
    "def import_list_binary(filename:str):\n",
    "    with open(filename + '.dat', 'rb') as fd:\n",
    "        list = pickle.load(fd)\n",
    "    return list\n",
    "\n",
    "\n",
    "# symm_array = import_list_binary(\"data/hyperbolic_raw_data_symm\")\n",
    "symm_array = import_list_binary(\"data/hyperbolic_raw_data_rb\")\n"
   ]
  },
  {
   "attachments": {},
   "cell_type": "markdown",
   "metadata": {},
   "source": [
    "# Curve fitting\n",
    "\n",
    "Fit a curve using a recursive approach:\n",
    "\n",
    "- The list created in the [Audio Analyser Notebook](./audio-analyser.ipynb) already has the highest point as list index 0\n",
    "- A default ```1 / x``` curve is created, the distance along the y-axis between the points of the curve and the discrete measurement points are calculated\n",
    "- For every iteration, the factor ```a``` of ```a / x``` is adjusted to decrease the overall distance between curve and discrete points &rarr; see quality function (*Gütefunktion*)\n",
    "- The quality function squares each distance to prevent averaging of points above and below the curve (otherwise, )\n",
    "\n",
    "The resulting curve represents the sound amplitude over time."
   ]
  },
  {
   "cell_type": "code",
   "execution_count": 172,
   "metadata": {},
   "outputs": [
    {
     "name": "stdout",
     "output_type": "stream",
     "text": [
      "0 \t 10\n",
      "0 \t -1\n",
      "0 \t 0.1\n",
      "0.1 \t 0.2\n",
      "0.2 \t 0.30000000000000004\n",
      "0.30000000000000004 \t 0.4\n",
      "0.4 \t 0.5\n",
      "0.5 \t 0.6\n",
      "0.6 \t 0.7\n",
      "0.7 \t 0.7999999999999999\n",
      "0.7999999999999999 \t 0.8999999999999999\n",
      "0.8999999999999999 \t 0.9999999999999999\n",
      "0 \t 1\n",
      "1 \t 2\n",
      "2 \t 3\n",
      "2 \t 1.9\n",
      "1.9 \t 1.7999999999999998\n",
      "1.7999999999999998 \t 1.6999999999999997\n",
      "1.6999999999999997 \t 1.5999999999999996\n",
      "1.5999999999999996 \t 1.4999999999999996\n",
      "1.5999999999999996 \t 1.6099999999999997\n",
      "1.5999999999999996 \t 1.6009999999999995\n",
      "1.5999999999999996 \t 1.6000999999999996\n",
      "1.6000999999999996 \t 1.6001999999999996\n",
      "1.6001999999999996 \t 1.6002999999999996\n",
      "1.6002999999999996 \t 1.6003999999999996\n",
      "1.6002999999999996 \t 1.6003099999999997\n",
      "1.6003099999999997 \t 1.6003199999999997\n",
      "1.6003199999999997 \t 1.6003299999999998\n",
      "1.6003299999999998 \t 1.6003399999999999\n",
      "1.6003399999999999 \t 1.60035\n",
      "Optimal a: 1.6003399999999999 ;\tremaining distance: 1.2394E+01\n"
     ]
    },
    {
     "data": {
      "text/plain": [
       "<Figure size 640x480 with 0 Axes>"
      ]
     },
     "metadata": {},
     "output_type": "display_data"
    },
    {
     "data": {
      "image/png": "[encoded data removed]",
      "text/plain": [
       "<Figure size 640x480 with 1 Axes>"
      ]
     },
     "metadata": {},
     "output_type": "display_data"
    }
   ],
   "source": [
    "\n",
    "class Hyperbola:\n",
    "    def __init__(self, a) -> None:\n",
    "        self.a = a\n",
    "    \n",
    "    def set_a(self, new_a):\n",
    "        self.a = new_a\n",
    "    \n",
    "    def y(self, x):\n",
    "        return self.a / x\n",
    "\n",
    "\n",
    "# test values\n",
    "# t = 10.1234\n",
    "# symm_array = [9999, t, t/2, t/3, t/4, t/5, t/6]\n",
    "\n",
    "def quality_function(scaling_factor) -> float:\n",
    "    \"\"\"\n",
    "        Iterate over each point in the list, calculate its distance to the continuous curve; cumulate the distance\n",
    "    \"\"\"\n",
    "    intensity_hyperbola = Hyperbola(scaling_factor)\n",
    "\n",
    "    dist_sum = 0\n",
    "    # start with idx 1 as 0 is at asymptote\n",
    "    for x_counter in range(1, len(symm_array)):\n",
    "        y_discrete = symm_array[x_counter]\n",
    "        y_function = intensity_hyperbola.y(x_counter)\n",
    "        dist = y_discrete - y_function\n",
    "        dist = dist * dist # remove sign; increase weight of larger distances\n",
    "\n",
    "        # decrease weight for points near the asymptote\n",
    "        # TODO: use match-case (since Python 3.10)\n",
    "        if(str(cfg.curve_fitter['weighting_algorithm']).lower() == \"exp\"):\n",
    "            dist = dist * math.exp(x_counter)\n",
    "        elif(str(cfg.curve_fitter['weighting_algorithm']).lower() == \"square\"):\n",
    "            dist = dist * (x_counter ** 2)\n",
    "        elif(str(cfg.curve_fitter['weighting_algorithm']).lower() == \"cube\"):\n",
    "            dist = dist * (x_counter ** 3)\n",
    "        \n",
    "        if str(cfg.curve_fitter['sign_removal']).lower() == \"abs\":\n",
    "            dist_sum += abs(dist)\n",
    "        else:\n",
    "            dist_sum += dist * dist\n",
    "    \n",
    "    return dist_sum\n",
    "\n",
    "# Streckfaktor a annähern\n",
    "\n",
    "\n",
    "def approximate_hyperbola_scaling_factor(precision_pow_10, max_pow_10):\n",
    "    return __approx_recursive__(0, max_pow_10, precision_pow_10, 1)\n",
    "\n",
    "def __approx_recursive__(current_approx, current_pow_10, precision, direction) -> tuple[float, float]:\n",
    "    \"\"\"\n",
    "        Recursively approximates the scaling factor for the hyperbola.\n",
    "\n",
    "        For detailed information as well as an example see the image \"recusive_approximation_of_a_number.png\"\n",
    "\n",
    "        current_approx: the current approximation\n",
    "        current_pow_10: the current power of ten; when invoking from outside the recursion, the maximum power of ten\n",
    "                max power of 10: the maximum power of ten to approximate with; this number is necessary to improve performance and to prevent infinite looping\n",
    "        direction: whether to increase or decrease the current approximation by current_pow_10's (1: increase; -1: decrease)\n",
    "\n",
    "        Returns: A tuple with (best approximation; quality of best approximation as returned by #quality_function)\n",
    "    \"\"\"\n",
    "    \n",
    "    magnitude_addend = 10 ** current_pow_10\n",
    "\n",
    "    prev_prev_val = 0\n",
    "    prev_val = 0\n",
    "    this_val = current_approx\n",
    "\n",
    "    dist_prev = 0\n",
    "    dist_this = 0\n",
    "\n",
    "    i_temp = 0\n",
    "    while i_temp < 10:\n",
    "        i_temp += 1\n",
    "        prev_prev_val = prev_val\n",
    "        prev_val = this_val\n",
    "\n",
    "        this_val = prev_val + magnitude_addend * direction # change value\n",
    "\n",
    "        print(prev_val, \"\\t\", this_val)\n",
    "\n",
    "        # perform checks\n",
    "        dist_prev = quality_function(prev_val)\n",
    "        dist_this = quality_function(this_val)\n",
    "        # abs(): if (for whatever reason) the quality func returns negative numbers\n",
    "        if abs(dist_this) > abs(dist_prev): # \"über das Ziel hinausgeschossen\"\n",
    "            break\n",
    "    \n",
    "    # failsave mode: enter max_pow10 was too small\n",
    "    if i_temp >= 10:\n",
    "        return __approx_recursive__(0, current_pow_10 + 1, precision, 1)\n",
    "\n",
    "    if current_pow_10 == precision:\n",
    "        # maximum precision reached\n",
    "        return (prev_val, dist_prev)\n",
    "\n",
    "    dist_prev_prev = quality_function(prev_prev_val)\n",
    "\n",
    "    comparison = dist_prev_prev < dist_this\n",
    "    if direction < 0:\n",
    "        # invert direction if direction was already inverted -> see detailed information\n",
    "        comparison = not comparison\n",
    "\n",
    "    if comparison:\n",
    "        # invert direction of next lower magnitude approximation\n",
    "        # -> it counts down from prev_val instead of counting up\n",
    "        return __approx_recursive__(prev_val, current_pow_10 - 1, precision, -1)\n",
    "    else:\n",
    "        return __approx_recursive__(prev_val, current_pow_10 - 1, precision, 1)\n",
    "\n",
    "\n",
    "approx_result = approximate_hyperbola_scaling_factor(\n",
    "    int(cfg.curve_fitter['precision_pow10']), int(cfg.curve_fitter['max_pow10']))\n",
    "optimal_a = approx_result[0]\n",
    "dist_optimal_a = approx_result[1]\n",
    "\n",
    "print(f\"Optimal a: {optimal_a} ;\\tremaining distance: {'%.4E' % Decimal(dist_optimal_a)}\")\n",
    "\n",
    "t = np.arange(len(symm_array))\n",
    "y_axis_limit = np.max(symm_array) * 1.2\n",
    "plotting_util.plot_graph(\"Approximated function\", \"y\", t, symm_array, t, optimal_a / (t+3), y_axis_limit)\n",
    "\n",
    "compute_info_str = f\"\"\"\n",
    "Used weighting function for approximation: \\'{str(cfg.curve_fitter['weighting_algorithm']).lower()}\\'\n",
    "Optimal a = {optimal_a}\n",
    "remaining distance (optimal a): {'%.4E' % Decimal(dist_optimal_a)}\n",
    "\"\"\"\n",
    "plotting_util.create_pdf_text_page(\n",
    "    \"summarized_plots/pdf/(b_x)compute_info\", compute_info_str, page_size=PAGE_SMALL)\n"
   ]
  },
  {
   "cell_type": "code",
   "execution_count": 173,
   "metadata": {},
   "outputs": [],
   "source": [
    "with open(\"graph_params.txt\", \"w\") as file:\n",
    "    file.write(str(optimal_a) + \"\\n\" + str(y_axis_limit) + \"\\n\" + str(len(symm_array)))"
   ]
  }
 ],
 "metadata": {
  "kernelspec": {
   "display_name": "Python 3.9.13 ('base')",
   "language": "python",
   "name": "python3"
  },
  "language_info": {
   "codemirror_mode": {
    "name": "ipython",
    "version": 3
   },
   "file_extension": ".py",
   "mimetype": "text/x-python",
   "name": "python",
   "nbconvert_exporter": "python",
   "pygments_lexer": "ipython3",
   "version": "3.9.13"
  },
  "orig_nbformat": 4,
  "vscode": {
   "interpreter": {
    "hash": "ad2bdc8ecc057115af97d19610ffacc2b4e99fae6737bb82f5d7fb13d2f2c186"
   }
  }
 },
 "nbformat": 4,
 "nbformat_minor": 2
}
