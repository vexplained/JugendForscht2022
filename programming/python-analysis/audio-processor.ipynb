{
 "cells": [
  {
   "attachments": {},
   "cell_type": "markdown",
   "metadata": {},
   "source": [
    "# Evaluation of the processed amplitude"
   ]
  },
  {
   "attachments": {},
   "cell_type": "markdown",
   "metadata": {},
   "source": [
    "# Setup"
   ]
  },
  {
   "cell_type": "code",
   "execution_count": 145,
   "metadata": {},
   "outputs": [],
   "source": [
    "import math\n",
    "import numpy as np\n",
    "import pandas as pd\n",
    "import matplotlib.pyplot as plt\n",
    "\n",
    "from colorama import Fore, Back, Style\n",
    "import plotting_util\n",
    "from reportlab.lib import pagesizes\n",
    "from reportlab.lib.units import mm\n",
    "from reportlab.lib import pagesizes\n",
    "A6_LS = pagesizes.landscape(pagesizes.A6)\n",
    "PAGE_SMALL = (160 * mm, 80 * mm)\n",
    "\n",
    "import configuration as cfg\n"
   ]
  },
  {
   "attachments": {},
   "cell_type": "markdown",
   "metadata": {},
   "source": [
    "# Umrechnung von Amplitude auf Schallpegel (RMS) \\[dB\\]\n",
    "\n",
    "Pseudocode Umrechnungsfunktionen:\n",
    "```python\n",
    "# a: Amplitude\n",
    "amp_to_db(a: float) = 20 * log10(a)\n",
    "amp_to_rms(a: float) = amp_to_db(sqrt((a * a) / 2))\n",
    "```"
   ]
  },
  {
   "cell_type": "code",
   "execution_count": 146,
   "metadata": {},
   "outputs": [
    {
     "name": "stdout",
     "output_type": "stream",
     "text": [
      "test\n",
      "[        -inf -12.04119983  -6.02059991  -2.49877473   0.        ]\n",
      "[  0.          -2.49877473  -6.02059991 -12.04119983         -inf]\n",
      "[        -inf -15.05149978  -9.03089987  -5.50907469  -3.01029996]\n",
      "[ -3.01029996  -5.50907469  -9.03089987 -15.05149978         -inf]\n"
     ]
    },
    {
     "name": "stderr",
     "output_type": "stream",
     "text": [
      "C:\\Users\\Levin\\AppData\\Local\\Temp\\ipykernel_2240\\3433689371.py:5: RuntimeWarning: divide by zero encountered in log10\n",
      "  return 20 * np.log10(amplitude)\n"
     ]
    }
   ],
   "source": [
    "def __amp_to_db__(amplitude):\n",
    "    \"\"\"\n",
    "    IMPORTANT: Returns a numpy array\n",
    "    \"\"\"\n",
    "    return 20 * np.log10(amplitude)\n",
    "\n",
    "def amp_to_rms(amplitude):\n",
    "    amplitude = np.array(amplitude)\n",
    "    return __amp_to_db__(np.sqrt(np.multiply(amplitude, amplitude) / 2))\n",
    "\n",
    "\n",
    "if __name__ == \"__main__\":\n",
    "    print(\"test\")\n",
    "    print(__amp_to_db__([0, 0.25, 0.5, 0.75, 1]))\n",
    "    print(__amp_to_db__([1, 0.75, 0.5, 0.25, 0]))\n",
    "    print(amp_to_rms([0, 0.25, 0.5, 0.75, 1]))\n",
    "    print(amp_to_rms([1, 0.75, 0.5, 0.25, 0]))"
   ]
  },
  {
   "cell_type": "code",
   "execution_count": 147,
   "metadata": {},
   "outputs": [
    {
     "name": "stderr",
     "output_type": "stream",
     "text": [
      "C:\\Users\\Levin\\AppData\\Local\\Temp\\ipykernel_2240\\4230239970.py:13: RuntimeWarning: divide by zero encountered in true_divide\n",
      "  hyperbola = optimal_a / t\n"
     ]
    },
    {
     "data": {
      "text/plain": [
       "<Figure size 640x480 with 0 Axes>"
      ]
     },
     "metadata": {},
     "output_type": "display_data"
    },
    {
     "data": {
      "image/png": "[encoded data removed]",
      "text/plain": [
       "<Figure size 640x480 with 1 Axes>"
      ]
     },
     "metadata": {},
     "output_type": "display_data"
    },
    {
     "name": "stdout",
     "output_type": "stream",
     "text": [
      "time increment: 1,0 s\n",
      "-28,07407894577597\t-34,48078196296332\t-38,12758612961698\t\n",
      "\n"
     ]
    }
   ],
   "source": [
    "optimal_a = 0\n",
    "_y_axis_limit = 0\n",
    "_len_symm_array: int = 0\n",
    "\n",
    "# Load \"optimal a\" value from file\n",
    "with open(\"graph_params.txt\", \"r\") as file:\n",
    "    optimal_a = float(file.readline())\n",
    "    _y_axis_limit = float(file.readline())\n",
    "    _len_symm_array = int(file.readline())\n",
    "\n",
    "t = np.arange(_len_symm_array)\n",
    "# t = np.linspace(0, _len_symm_array, num=_len_symm_array*2)\n",
    "hyperbola = optimal_a / t\n",
    "plotting_util.plot_amplitude_data(\n",
    "    \"Amplitude to RMS conversion\", \"Hyperbola (optimal_a)\", cfg.averaging_resolution, data1=hyperbola, axis2_name=\"RMS [dB]\", data2=amp_to_rms(hyperbola), graph_on_same_axis=True)\n",
    "\n",
    "rms_curve = amp_to_rms(hyperbola)\n",
    "\n",
    "amt_print_vals = 3 # minimum of 3\n",
    "num_samples = len(rms_curve)\n",
    "sample_increment = int(num_samples / amt_print_vals)\n",
    "time_increment = sample_increment / cfg.averaging_resolution\n",
    "rms_vals = [(rms_curve[sample_increment * (i + 1) - 1]) for i in range(amt_print_vals)]\n",
    "print(f\"time increment: {str(time_increment).replace('.', ',')} s\")\n",
    "for rms_value in rms_vals:\n",
    "    print(str(rms_value).replace('.', ','), end='\\t')\n",
    "\n",
    "print('\\n')"
   ]
  },
  {
   "attachments": {},
   "cell_type": "markdown",
   "metadata": {},
   "source": [
    "# Pythagoras correction\n",
    "\n",
    "<span style=\"color:red; font-size:20pt;\"><s>fehlt momentan noch</s></span>\n",
    "-> in dieser Datei hinzugefügt"
   ]
  },
  {
   "attachments": {},
   "cell_type": "markdown",
   "metadata": {},
   "source": [
    "# Speed calculation\n",
    "\n",
    "Using the data yielded by the amplitude to RMS converter, the speed of the passing vehicle is approximated.\n",
    "\n",
    "Since the RMS curve is derived from a hyperbola, no extra precision is gained by calculating the speed at multiple points in time. However, due to the fact that the hyperbola is only an approximation of the actual amplitude curve, especially near $x = 0$, a value further from $0$ is picked (the hyperbola approaches a value of $\\infty$ near $0$, which cannot be used in this formula).\n",
    "\n",
    "See excel sheet \"AmplitudeTest.xlsx\" for empirical proof that speeds calculated with $x = 0$ including, differ from all other values."
   ]
  },
  {
   "cell_type": "code",
   "execution_count": 148,
   "metadata": {},
   "outputs": [
    {
     "name": "stdout",
     "output_type": "stream",
     "text": [
      "\u001b[30m\u001b[46mApproximated velocity: 69.11851623080562 [m/s] = 248.82665843090027 [km/h]\u001b[0m\n"
     ]
    }
   ],
   "source": [
    "r1 = 2.5 # radius_of_recording\n",
    "L1 = 0 # maximum loudness\n",
    "\n",
    "L2 = rms_vals[0]\n",
    "L3 = rms_vals[1]\n",
    "\n",
    "def radius2_from_3_known(radius1, Loudness1, Loudness2): # -> r2\n",
    "    return radius1 * (10 ** (abs(Loudness1 - Loudness2) / 20))\n",
    "\n",
    "r2 = radius2_from_3_known(r1, L1, L2)\n",
    "r3 = radius2_from_3_known(r1, L1, L3)\n",
    "\n",
    "# Pythagoras correction (triangulation)\n",
    "d3 = math.sqrt((r3 * r3) - (r1 * r1))\n",
    "d2 = math.sqrt((r2 * r2) - (r1 * r1))\n",
    "\n",
    "v2_3 = (d3 - d2) / time_increment\n",
    "\n",
    "print(Fore.BLACK + Back.CYAN + f\"Approximated velocity: {v2_3} [m/s] = {v2_3 * 3.6} [km/h]\" + Style.RESET_ALL)"
   ]
  }
 ],
 "metadata": {
  "kernelspec": {
   "display_name": "base",
   "language": "python",
   "name": "python3"
  },
  "language_info": {
   "codemirror_mode": {
    "name": "ipython",
    "version": 3
   },
   "file_extension": ".py",
   "mimetype": "text/x-python",
   "name": "python",
   "nbconvert_exporter": "python",
   "pygments_lexer": "ipython3",
   "version": "3.9.13 (main, Aug 25 2022, 23:51:50) [MSC v.1916 64 bit (AMD64)]"
  },
  "orig_nbformat": 4,
  "vscode": {
   "interpreter": {
    "hash": "ad2bdc8ecc057115af97d19610ffacc2b4e99fae6737bb82f5d7fb13d2f2c186"
   }
  }
 },
 "nbformat": 4,
 "nbformat_minor": 2
}
