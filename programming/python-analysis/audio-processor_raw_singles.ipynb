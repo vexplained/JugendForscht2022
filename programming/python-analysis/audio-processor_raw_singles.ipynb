{
 "cells": [
  {
   "attachments": {},
   "cell_type": "markdown",
   "metadata": {},
   "source": [
    "# Evaluation of the processed amplitude *using raw data*\n",
    "\n",
    "This processor uses the averaged data of the amplitude analyser rather than the approximated hyoerbolic function."
   ]
  },
  {
   "attachments": {},
   "cell_type": "markdown",
   "metadata": {},
   "source": [
    "# Setup"
   ]
  },
  {
   "cell_type": "code",
   "execution_count": 73,
   "metadata": {},
   "outputs": [],
   "source": [
    "import math\n",
    "import numpy as np\n",
    "import pandas as pd\n",
    "import matplotlib.pyplot as plt\n",
    "\n",
    "import pickle\n",
    "from colorama import Fore, Back, Style\n",
    "import plotting_util\n",
    "from reportlab.lib import pagesizes\n",
    "from reportlab.lib.units import mm\n",
    "from reportlab.lib import pagesizes\n",
    "A6_LS = pagesizes.landscape(pagesizes.A6)\n",
    "PAGE_SMALL = (160 * mm, 80 * mm)\n",
    "\n",
    "import configuration as cfg\n"
   ]
  },
  {
   "cell_type": "code",
   "execution_count": 74,
   "metadata": {},
   "outputs": [],
   "source": [
    "# Import serialized symmetrical list to file\n",
    "def import_list_binary(filename: str):\n",
    "    with open(filename + '.dat', 'rb') as fd:\n",
    "        list = pickle.load(fd)\n",
    "    return list\n",
    "\n",
    "\n",
    "# left channel, part a and b\n",
    "# right channel\n",
    "avg_la = import_list_binary(\"data/hyperbolic_raw_data_la\")\n",
    "avg_lb = import_list_binary(\"data/hyperbolic_raw_data_lb\")\n",
    "avg_ra = import_list_binary(\"data/hyperbolic_raw_data_ra\")\n",
    "avg_rb = import_list_binary(\"data/hyperbolic_raw_data_rb\")\n"
   ]
  },
  {
   "attachments": {},
   "cell_type": "markdown",
   "metadata": {},
   "source": [
    "# Umrechnung von Amplitude auf Schallpegel (RMS) \\[dB\\]\n",
    "\n",
    "Pseudocode Umrechnungsfunktionen:\n",
    "```python\n",
    "# a: Amplitude\n",
    "amp_to_db(a: float) = 20 * log10(a)\n",
    "amp_to_rms(a: float) = amp_to_db(sqrt((a * a) / 2))\n",
    "```"
   ]
  },
  {
   "cell_type": "code",
   "execution_count": 75,
   "metadata": {},
   "outputs": [],
   "source": [
    "def __amp_to_db(amplitude):\n",
    "    \"\"\"\n",
    "    IMPORTANT: Returns a numpy array\n",
    "    \"\"\"\n",
    "    return 20 * np.log10(amplitude)\n",
    "\n",
    "def amp_to_rms(amplitude):\n",
    "    amplitude = np.array(amplitude)\n",
    "    return __amp_to_db(np.sqrt((np.multiply(amplitude, amplitude)) / 2))"
   ]
  },
  {
   "attachments": {},
   "cell_type": "markdown",
   "metadata": {},
   "source": [
    "## Three point RMS approach\n",
    "\n",
    "~~**CAUTION:** This approach does only work with RMS values based on a hypberolic amplitude function. For discrete (raw) data, this approach returns arbitrary results.~~\n",
    "\n",
    "*Correction:* It works nevertheless. Only difference: the velocity is only calculated using two datapoints. However, this may not be that bad, because the Gaussian filter averaged extreme deviations of the raw input data.\n",
    "Currently, the points at $1/4$'ths and $2/4$'ths are used to calculate the average speed in the time frame with size ```time_increment```.    <span style=\"color:red\">!!NOCHMAL CODE DURCHLESEN UND SCHAUEN, OB DAS RICHTIG IST, WAS ICH HIER BEHAUPTET HABE!!</span>\n",
    "\n",
    "Because of the hyperbolic properties of the function, an arbitrary time / loudness frame can be chosen; regardless of the chosen frame, the calculated velocity is always constant."
   ]
  },
  {
   "cell_type": "code",
   "execution_count": 76,
   "metadata": {},
   "outputs": [
    {
     "name": "stdout",
     "output_type": "stream",
     "text": [
      "time increment: 0,5833333333333334 s\n",
      "-17,739260490927457\t-20,66006433080976\t-21,711600998490916\t\n",
      "\n",
      "time increment: 0,8333333333333334 s\n",
      "-19,03715301887974\t-23,592560217067877\t-26,79441863981279\t\n",
      "\n",
      "time increment: 0,4166666666666667 s\n",
      "-18,314302889558824\t-19,69530430609588\t-20,796243424917776\t\n",
      "\n",
      "time increment: 1,0 s\n",
      "-21,748063142226265\t-24,468159786925273\t-26,528946580436337\t\n",
      "\n"
     ]
    }
   ],
   "source": [
    "# plotting_util.plot_amplitude_data(\n",
    "#     \"Amplitude to RMS conversion\", \"Hyperbola (optimal_a)\", cfg.averaging_resolution, data1=symm_array, axis2_name=\"RMS [dB]\", data2=amp_to_rms(symm_array), graph_on_same_axis=True)\n",
    "\n",
    "# rms_curve = amp_to_rms(symm_array)\n",
    "\n",
    "rms_curve_la = amp_to_rms(avg_la)\n",
    "rms_curve_lb = amp_to_rms(avg_lb)\n",
    "rms_curve_ra = amp_to_rms(avg_ra)\n",
    "rms_curve_rb = amp_to_rms(avg_rb)\n",
    "\n",
    "amt_print_vals = 3 # minimum of 3\n",
    "\n",
    "def three_point_rms(rms_curve):\n",
    "    num_samples = len(rms_curve)\n",
    "    sample_increment = int(num_samples / amt_print_vals)\n",
    "    time_increment = sample_increment / cfg.averaging_resolution\n",
    "    rms_vals = [(rms_curve[sample_increment * (i + 1) - 1]) for i in range(amt_print_vals)]\n",
    "    print(f\"time increment: {str(time_increment).replace('.', ',')} s\")\n",
    "    for rms_value in rms_vals:\n",
    "        print(str(rms_value).replace('.', ','), end='\\t')\n",
    "    print('\\n')\n",
    "    return (rms_vals, time_increment)\n",
    "\n",
    "rms_vals_la, time_increment_la = three_point_rms(rms_curve_la)\n",
    "rms_vals_lb, time_increment_lb = three_point_rms(rms_curve_lb)\n",
    "rms_vals_ra, time_increment_ra = three_point_rms(rms_curve_ra)\n",
    "rms_vals_rb, time_increment_rb = three_point_rms(rms_curve_rb)"
   ]
  },
  {
   "attachments": {},
   "cell_type": "markdown",
   "metadata": {},
   "source": [
    "# Pythagoras correction\n",
    "\n",
    "<span style=\"color:red; font-size:30pt;\">fehlt momentan noch</span>"
   ]
  },
  {
   "attachments": {},
   "cell_type": "markdown",
   "metadata": {},
   "source": [
    "# Weitere Korrektur des Codes (ausstehend):\n",
    "\n",
    "Einzelne Messpunkte erst ab **Wendepunkt** verwenden"
   ]
  },
  {
   "attachments": {},
   "cell_type": "markdown",
   "metadata": {},
   "source": [
    "# Speed calculation\n",
    "\n",
    "Using the data yielded by the amplitude to RMS converter, the speed of the passing vehicle is approximated.\n",
    "\n",
    "Since the RMS curve is derived from a hyperbola, no extra precision is gained by calculating the speed at multiple points in time. However, due to the fact that the hyperbola is only an approximation of the actual amplitude curve, especially near $x = 0$, a value further from $0$ is picked (the hyperbola approaches a value of $\\infty$ near $0$, which cannot be used in this formula).\n",
    "\n",
    "See excel sheet \"AmplitudeTest.xlsx\" for empirical proof that speeds calculated with $x = 0$ including, differ from all other values."
   ]
  },
  {
   "cell_type": "code",
   "execution_count": 77,
   "metadata": {},
   "outputs": [
    {
     "name": "stdout",
     "output_type": "stream",
     "text": [
      "\u001b[30m\u001b[46mApproximated speed LA: 13.20500895069943 [m/s] = 47.53803222251795 [km/h]\u001b[0m\n",
      "\u001b[30m\u001b[46mApproximated speed LB: 18.515821307682497 [m/s] = 66.65695670765699 [km/h]\u001b[0m\n",
      "\u001b[30m\u001b[46mApproximated speed RA: 8.51586149931339 [m/s] = 30.657101397528205 [km/h]\u001b[0m\n",
      "\u001b[30m\u001b[46mApproximated speed RB: 11.243170929146874 [m/s] = 40.47541534492875 [km/h]\u001b[0m\n",
      "\u001b[30m\u001b[43mAVERAGED SPEED: 12.869965671710549 [m/s] = 46.331876418157975 [km/h]\u001b[0m\n"
     ]
    }
   ],
   "source": [
    "r1 = 2.5 # radius_of_recording\n",
    "L1 = 0 # maximum loudness\n",
    "\n",
    "def radius2_from_3_known(radius1, Loudness1, Loudness2): # -> r2\n",
    "    \"\"\"\n",
    "    Source of formula: http://www.sengpielaudio.com/Rechner-entfernung.htm\n",
    "    \"\"\"\n",
    "    return radius1 * (10 ** (abs(Loudness1 - Loudness2) / 20))\n",
    "\n",
    "def calc_speed_from_hypberbolic_input(rms_vals, time_increment):\n",
    "    L2 = rms_vals[0]\n",
    "    L3 = rms_vals[1]\n",
    "\n",
    "    r2 = radius2_from_3_known(r1, L1, L2)\n",
    "    r3 = radius2_from_3_known(r1, L1, L3)\n",
    "\n",
    "    v2_3 = (r3 - r2) / time_increment\n",
    "    return v2_3\n",
    "\n",
    "v_la = calc_speed_from_hypberbolic_input(rms_vals_la, time_increment_la)\n",
    "v_lb = calc_speed_from_hypberbolic_input(rms_vals_lb, time_increment_lb)\n",
    "v_ra = calc_speed_from_hypberbolic_input(rms_vals_ra, time_increment_ra)\n",
    "v_rb = calc_speed_from_hypberbolic_input(rms_vals_rb, time_increment_rb)\n",
    "\n",
    "print(Fore.BLACK + Back.CYAN + f\"Approximated speed LA: {v_la} [m/s] = {v_la * 3.6} [km/h]\" + Style.RESET_ALL)\n",
    "print(Fore.BLACK + Back.CYAN + f\"Approximated speed LB: {v_lb} [m/s] = {v_lb * 3.6} [km/h]\" + Style.RESET_ALL)\n",
    "print(Fore.BLACK + Back.CYAN + f\"Approximated speed RA: {v_ra} [m/s] = {v_ra * 3.6} [km/h]\" + Style.RESET_ALL)\n",
    "print(Fore.BLACK + Back.CYAN + f\"Approximated speed RB: {v_rb} [m/s] = {v_rb * 3.6} [km/h]\" + Style.RESET_ALL)\n",
    "v_hyperbola_avg = (v_la + v_lb + v_ra + v_rb) / 4\n",
    "print(Fore.BLACK + Back.YELLOW +\n",
    "      f\"AVERAGED SPEED: {v_hyperbola_avg} [m/s] = {v_hyperbola_avg * 3.6} [km/h]\" + Style.RESET_ALL)\n"
   ]
  },
  {
   "attachments": {},
   "cell_type": "markdown",
   "metadata": {},
   "source": [
    "Multiple speed calculations with averaging"
   ]
  },
  {
   "cell_type": "code",
   "execution_count": 78,
   "metadata": {},
   "outputs": [
    {
     "name": "stdout",
     "output_type": "stream",
     "text": [
      "Values in [m/s] ≙ [km/h]\n",
      " min | avg | median | max\n",
      "\u001b[30m\u001b[46mApproximated speed LA: 0.0 ≙ 0.0 \t|     0.6 ≙ 2.1 \t|     0.2 ≙ 0.7 \t|     2.1 ≙ 7.6 \t\u001b[0m\n",
      "\u001b[30m\u001b[46mApproximated speed LB: 0.0 ≙ 0.0 \t|     1.2 ≙ 4.3 \t|     0.7 ≙ 2.4 \t|     4.5 ≙ 16.2 \t\u001b[0m\n",
      "\u001b[30m\u001b[46mApproximated speed RA: 0.0 ≙ 0.0 \t|     0.5 ≙ 1.9 \t|     0.2 ≙ 0.7 \t|     1.3 ≙ 4.6 \t\u001b[0m\n",
      "\u001b[30m\u001b[46mApproximated speed RB: 0.0 ≙ 0.0 \t|     0.9 ≙ 3.3 \t|     0.6 ≙ 2.3 \t|     2.9 ≙ 10.5 \t\u001b[0m\n",
      "\u001b[30m\u001b[46mMininmum: 0.0 [m/s] = 0.0 [km/h]\n",
      "      Average: 0.92726637499708 [m/s] = 3.338158949989488 [km/h]\n",
      "      Median: 0.6289598725643017 [m/s] = 2.264255541231486 [km/h]\n",
      "      Maximum: 2.9183619715848614 [m/s] = 10.506103097705502 [km/h]\u001b[0m\n"
     ]
    }
   ],
   "source": [
    "r1 = 2.5  # radius_of_recording\n",
    "def calc_speed_from_raw_input(rms_curve):\n",
    "    L1 = rms_curve[0]  # maximum loudness\n",
    "\n",
    "    # velocity calculation for all points in the RMS list\n",
    "    r_prev = r1\n",
    "    v_list = np.empty(len(rms_curve))\n",
    "    for L_x in rms_curve:\n",
    "        r_x = radius2_from_3_known(r1, L1, L_x)\n",
    "        # naming explanation: v_(previous radius)_(radius x)\n",
    "        # v = s/t  ;  t = 1/res\n",
    "        v_prev_x = (r_x - r_prev) * cfg.averaging_resolution\n",
    "        # print(v_prev_x)\n",
    "        v_list = np.append(v_list, v_prev_x)\n",
    "        r_prev = r_x\n",
    "    \n",
    "    v_min = np.min(v_list)\n",
    "    v_avg = np.mean(v_list)\n",
    "    v_median = np.median(v_list)\n",
    "    v_max = np.max(v_list)\n",
    "\n",
    "    return (v_min, v_avg, v_median, v_max)\n",
    "\n",
    "\n",
    "v_raw_min_avg = 0\n",
    "v_raw_avg_avg = 0\n",
    "v_raw_median_avg = 0\n",
    "v_raw_max_avg = 0\n",
    "rms_curves_list = [rms_curve_la, rms_curve_lb, rms_curve_ra, rms_curve_rb]\n",
    "names_list = [\"LA\", \"LB\", \"RA\", \"RB\"]\n",
    "print(\"Values in [m/s] \\u2259 [km/h]\")\n",
    "print(\" min | avg | median | max\")\n",
    "for i in range(4):\n",
    "    v_min, v_avg, v_median, v_max = calc_speed_from_raw_input(rms_curves_list[i])\n",
    "    print(Fore.BLACK + Back.CYAN +\n",
    "          f\"Approximated speed {names_list[i]}: {v_min:.1f} \\u2259 {v_min*3.6:.1f} \\t| \\\n",
    "    {v_avg:.1f} \\u2259 {v_avg*3.6:.1f} \\t| \\\n",
    "    {v_median:.1f} \\u2259 {v_median*3.6:.1f} \\t| \\\n",
    "    {v_max:.1f} \\u2259 {v_max*3.6:.1f} \\t\" + Style.RESET_ALL)\n",
    "\n",
    "    v_raw_min_avg += v_min\n",
    "    v_raw_avg_avg += v_avg\n",
    "    v_raw_median_avg += v_median\n",
    "    v_raw_max_avg += v_max\n",
    "\n",
    "v_raw_min_avg /= 4\n",
    "v_raw_avg_avg /= 4\n",
    "v_raw_median_avg /= 4\n",
    "v_raw_max_avg /= 4\n",
    "\n",
    "\n",
    "\n",
    "\n",
    "print(Fore.BLACK + Back.CYAN +\n",
    "      f\"\"\"Mininmum: {v_min} [m/s] = {v_min * 3.6} [km/h]\n",
    "      Average: {v_avg} [m/s] = {v_avg * 3.6} [km/h]\n",
    "      Median: {v_median} [m/s] = {v_median * 3.6} [km/h]\n",
    "      Maximum: {v_max} [m/s] = {v_max * 3.6} [km/h]\"\"\" + Style.RESET_ALL)\n"
   ]
  }
 ],
 "metadata": {
  "kernelspec": {
   "display_name": "base",
   "language": "python",
   "name": "python3"
  },
  "language_info": {
   "codemirror_mode": {
    "name": "ipython",
    "version": 3
   },
   "file_extension": ".py",
   "mimetype": "text/x-python",
   "name": "python",
   "nbconvert_exporter": "python",
   "pygments_lexer": "ipython3",
   "version": "3.9.13"
  },
  "orig_nbformat": 4,
  "vscode": {
   "interpreter": {
    "hash": "ad2bdc8ecc057115af97d19610ffacc2b4e99fae6737bb82f5d7fb13d2f2c186"
   }
  }
 },
 "nbformat": 4,
 "nbformat_minor": 2
}
